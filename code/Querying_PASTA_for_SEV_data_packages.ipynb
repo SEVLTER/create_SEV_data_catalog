{
 "cells": [
  {
   "cell_type": "markdown",
   "metadata": {},
   "source": [
    "KM Hall \n",
    "\n",
    "This code queries EDI's PASTA database using their API, and pulls down the SEV's most recent data catalog. This catalog is then written to an XML and CSV file."
   ]
  },
  {
   "cell_type": "code",
   "execution_count": 1,
   "metadata": {},
   "outputs": [],
   "source": [
    "import pandas as pd\n",
    "import numpy as np\n",
    "import requests\n",
    "import xml.etree.ElementTree as ET\n",
    "from datetime import date"
   ]
  },
  {
   "cell_type": "code",
   "execution_count": 2,
   "metadata": {},
   "outputs": [],
   "source": [
    "base_url = 'https://pasta.lternet.edu/package/search/eml'"
   ]
  },
  {
   "cell_type": "code",
   "execution_count": 9,
   "metadata": {},
   "outputs": [],
   "source": [
    "r = requests.get(base_url + '?q=scope:knb-lter-sev&fl=packageid,title,doi,pubdate&rows=100000')"
   ]
  },
  {
   "cell_type": "code",
   "execution_count": 10,
   "metadata": {
    "scrolled": true
   },
   "outputs": [
    {
     "data": {
      "text/plain": [
       "'20210511'"
      ]
     },
     "execution_count": 10,
     "metadata": {},
     "output_type": "execute_result"
    }
   ],
   "source": [
    "date.today().strftime(\"%Y%m%d\")"
   ]
  },
  {
   "cell_type": "code",
   "execution_count": 11,
   "metadata": {},
   "outputs": [
    {
     "name": "stdout",
     "output_type": "stream",
     "text": [
      "test20210511.xml\n"
     ]
    }
   ],
   "source": [
    "print(\"test\" + date.today().strftime(\"%Y%m%d\") + \".xml\")"
   ]
  },
  {
   "cell_type": "code",
   "execution_count": 12,
   "metadata": {},
   "outputs": [
    {
     "data": {
      "text/plain": [
       "67626"
      ]
     },
     "execution_count": 12,
     "metadata": {},
     "output_type": "execute_result"
    }
   ],
   "source": [
    "txt = r.text \n",
    "xml_file_name = \"../output/PASTA_SEV_Data_Packages_List_\" + date.today().strftime(\"%Y%m%d\") + \".xml\"\n",
    "xml_file_name\n",
    "myfile = open(xml_file_name, \"w\")  \n",
    "myfile.write(txt)  "
   ]
  },
  {
   "cell_type": "code",
   "execution_count": 13,
   "metadata": {},
   "outputs": [
    {
     "data": {
      "text/html": [
       "<div>\n",
       "<style scoped>\n",
       "    .dataframe tbody tr th:only-of-type {\n",
       "        vertical-align: middle;\n",
       "    }\n",
       "\n",
       "    .dataframe tbody tr th {\n",
       "        vertical-align: top;\n",
       "    }\n",
       "\n",
       "    .dataframe thead th {\n",
       "        text-align: right;\n",
       "    }\n",
       "</style>\n",
       "<table border=\"1\" class=\"dataframe\">\n",
       "  <thead>\n",
       "    <tr style=\"text-align: right;\">\n",
       "      <th></th>\n",
       "      <th>packageid</th>\n",
       "      <th>title</th>\n",
       "      <th>doi</th>\n",
       "      <th>pubdate</th>\n",
       "    </tr>\n",
       "  </thead>\n",
       "  <tbody>\n",
       "    <tr>\n",
       "      <th>0</th>\n",
       "      <td>knb-lter-sev.202.312958</td>\n",
       "      <td>Point-Quarter Harvested Plant Weight Measureme...</td>\n",
       "      <td>doi:10.6073/pasta/c7334a04af15e27443e9a7e07495...</td>\n",
       "      <td>2016</td>\n",
       "    </tr>\n",
       "    <tr>\n",
       "      <th>1</th>\n",
       "      <td>knb-lter-sev.203.111849</td>\n",
       "      <td>Larrea Seedling Monitoring Study at the Sevill...</td>\n",
       "      <td>doi:10.6073/pasta/751d60c674f8750c1d3dfaca1e78...</td>\n",
       "      <td>2011</td>\n",
       "    </tr>\n",
       "    <tr>\n",
       "      <th>2</th>\n",
       "      <td>knb-lter-sev.204.154836</td>\n",
       "      <td>Tree Mast Production in Pinyon-Juniper-Oak For...</td>\n",
       "      <td>doi:10.6073/pasta/f6cb97e094966c0af30206e767b0...</td>\n",
       "      <td>2010</td>\n",
       "    </tr>\n",
       "    <tr>\n",
       "      <th>3</th>\n",
       "      <td>knb-lter-sev.205.210628</td>\n",
       "      <td>Warming-El Nino-Nitrogen Deposition Experiment...</td>\n",
       "      <td>doi:10.6073/pasta/1dec3c20ab98ad9edbd173252f67...</td>\n",
       "      <td>2016</td>\n",
       "    </tr>\n",
       "    <tr>\n",
       "      <th>4</th>\n",
       "      <td>knb-lter-sev.206.217925</td>\n",
       "      <td>Monsoon Rainfall Manipulation Experiment (MRME...</td>\n",
       "      <td>doi:10.6073/pasta/9372a5dea415f041672cdc257c84...</td>\n",
       "      <td>2010</td>\n",
       "    </tr>\n",
       "    <tr>\n",
       "      <th>...</th>\n",
       "      <td>...</td>\n",
       "      <td>...</td>\n",
       "      <td>...</td>\n",
       "      <td>...</td>\n",
       "    </tr>\n",
       "    <tr>\n",
       "      <th>194</th>\n",
       "      <td>knb-lter-sev.148.131886</td>\n",
       "      <td>2003 Prescribed Burn Effect on Chihuahuan Dese...</td>\n",
       "      <td>doi:10.6073/pasta/e207daa835cd4a46c774fd22d4e3...</td>\n",
       "      <td>2021</td>\n",
       "    </tr>\n",
       "    <tr>\n",
       "      <th>195</th>\n",
       "      <td>knb-lter-sev.165.121135</td>\n",
       "      <td>2003 Prescribed Burn Effect on Chihuahuan Dese...</td>\n",
       "      <td>doi:10.6073/pasta/c531e6a0eec5137a0853a8a168d4...</td>\n",
       "      <td>2021</td>\n",
       "    </tr>\n",
       "    <tr>\n",
       "      <th>196</th>\n",
       "      <td>knb-lter-sev.166.122110</td>\n",
       "      <td>2003 Prescribed Burn Effect on Chihuahuan Dese...</td>\n",
       "      <td>doi:10.6073/pasta/9e954ae1972c6951e84bc85f4020...</td>\n",
       "      <td>2021</td>\n",
       "    </tr>\n",
       "    <tr>\n",
       "      <th>197</th>\n",
       "      <td>knb-lter-sev.238.226095</td>\n",
       "      <td>Gunnison's Prairie Dog Restoration Experiment ...</td>\n",
       "      <td>doi:10.6073/pasta/608b329e394f77c761245402e5a5...</td>\n",
       "      <td>2021</td>\n",
       "    </tr>\n",
       "    <tr>\n",
       "      <th>198</th>\n",
       "      <td>knb-lter-sev.201.271015</td>\n",
       "      <td>Point-Quarter Distance and Dimension Measureme...</td>\n",
       "      <td>doi:10.6073/pasta/1580ca2aa7790dc3eeb93e19a1f5...</td>\n",
       "      <td>2021</td>\n",
       "    </tr>\n",
       "  </tbody>\n",
       "</table>\n",
       "<p>199 rows × 4 columns</p>\n",
       "</div>"
      ],
      "text/plain": [
       "                   packageid  \\\n",
       "0    knb-lter-sev.202.312958   \n",
       "1    knb-lter-sev.203.111849   \n",
       "2    knb-lter-sev.204.154836   \n",
       "3    knb-lter-sev.205.210628   \n",
       "4    knb-lter-sev.206.217925   \n",
       "..                       ...   \n",
       "194  knb-lter-sev.148.131886   \n",
       "195  knb-lter-sev.165.121135   \n",
       "196  knb-lter-sev.166.122110   \n",
       "197  knb-lter-sev.238.226095   \n",
       "198  knb-lter-sev.201.271015   \n",
       "\n",
       "                                                 title  \\\n",
       "0    Point-Quarter Harvested Plant Weight Measureme...   \n",
       "1    Larrea Seedling Monitoring Study at the Sevill...   \n",
       "2    Tree Mast Production in Pinyon-Juniper-Oak For...   \n",
       "3    Warming-El Nino-Nitrogen Deposition Experiment...   \n",
       "4    Monsoon Rainfall Manipulation Experiment (MRME...   \n",
       "..                                                 ...   \n",
       "194  2003 Prescribed Burn Effect on Chihuahuan Dese...   \n",
       "195  2003 Prescribed Burn Effect on Chihuahuan Dese...   \n",
       "196  2003 Prescribed Burn Effect on Chihuahuan Dese...   \n",
       "197  Gunnison's Prairie Dog Restoration Experiment ...   \n",
       "198  Point-Quarter Distance and Dimension Measureme...   \n",
       "\n",
       "                                                   doi pubdate  \n",
       "0    doi:10.6073/pasta/c7334a04af15e27443e9a7e07495...    2016  \n",
       "1    doi:10.6073/pasta/751d60c674f8750c1d3dfaca1e78...    2011  \n",
       "2    doi:10.6073/pasta/f6cb97e094966c0af30206e767b0...    2010  \n",
       "3    doi:10.6073/pasta/1dec3c20ab98ad9edbd173252f67...    2016  \n",
       "4    doi:10.6073/pasta/9372a5dea415f041672cdc257c84...    2010  \n",
       "..                                                 ...     ...  \n",
       "194  doi:10.6073/pasta/e207daa835cd4a46c774fd22d4e3...    2021  \n",
       "195  doi:10.6073/pasta/c531e6a0eec5137a0853a8a168d4...    2021  \n",
       "196  doi:10.6073/pasta/9e954ae1972c6951e84bc85f4020...    2021  \n",
       "197  doi:10.6073/pasta/608b329e394f77c761245402e5a5...    2021  \n",
       "198  doi:10.6073/pasta/1580ca2aa7790dc3eeb93e19a1f5...    2021  \n",
       "\n",
       "[199 rows x 4 columns]"
      ]
     },
     "execution_count": 13,
     "metadata": {},
     "output_type": "execute_result"
    }
   ],
   "source": [
    "# reads in xml file that was written out in the previous step and converts it to an easier to use format\n",
    "\n",
    "def getvalueofnode(node):\n",
    "    return node.text if node is not None else None\n",
    "\n",
    "def main():\n",
    "    \"\"\" main \"\"\"\n",
    "    parsed_xml = ET.parse(xml_file_name)\n",
    "    dfcols = ['packageid', 'title', 'doi', 'pubdate']\n",
    "    df_xml = pd.DataFrame(columns=dfcols)\n",
    " \n",
    "    for node in parsed_xml.getroot():\n",
    "        #name = node.attrib.get('name')\n",
    "        packageid = node.find('packageid')\n",
    "        title = node.find('title')\n",
    "        doi = node.find('doi')\n",
    "        pubdate = node.find('pubdate')\n",
    "        \n",
    " \n",
    "        df_xml = df_xml.append(\n",
    "            pd.Series([getvalueofnode(packageid), getvalueofnode(title),\n",
    "                       getvalueofnode(doi), getvalueofnode(pubdate)], index=dfcols),\n",
    "            ignore_index=True)\n",
    " \n",
    "    #print(df_xml)\n",
    "    return df_xml\n",
    "    \n",
    " \n",
    "main()"
   ]
  },
  {
   "cell_type": "code",
   "execution_count": 14,
   "metadata": {},
   "outputs": [],
   "source": [
    "SEV_clean = main()"
   ]
  },
  {
   "cell_type": "code",
   "execution_count": 15,
   "metadata": {},
   "outputs": [
    {
     "name": "stdout",
     "output_type": "stream",
     "text": [
      "<class 'pandas.core.frame.DataFrame'>\n",
      "RangeIndex: 199 entries, 0 to 198\n",
      "Data columns (total 4 columns):\n",
      " #   Column     Non-Null Count  Dtype \n",
      "---  ------     --------------  ----- \n",
      " 0   packageid  199 non-null    object\n",
      " 1   title      199 non-null    object\n",
      " 2   doi        199 non-null    object\n",
      " 3   pubdate    196 non-null    object\n",
      "dtypes: object(4)\n",
      "memory usage: 6.3+ KB\n"
     ]
    }
   ],
   "source": [
    "SEV_clean.info()"
   ]
  },
  {
   "cell_type": "code",
   "execution_count": 16,
   "metadata": {},
   "outputs": [
    {
     "data": {
      "text/html": [
       "<div>\n",
       "<style scoped>\n",
       "    .dataframe tbody tr th:only-of-type {\n",
       "        vertical-align: middle;\n",
       "    }\n",
       "\n",
       "    .dataframe tbody tr th {\n",
       "        vertical-align: top;\n",
       "    }\n",
       "\n",
       "    .dataframe thead th {\n",
       "        text-align: right;\n",
       "    }\n",
       "</style>\n",
       "<table border=\"1\" class=\"dataframe\">\n",
       "  <thead>\n",
       "    <tr style=\"text-align: right;\">\n",
       "      <th></th>\n",
       "      <th>packageid</th>\n",
       "      <th>title</th>\n",
       "      <th>doi</th>\n",
       "      <th>pubdate</th>\n",
       "    </tr>\n",
       "  </thead>\n",
       "  <tbody>\n",
       "    <tr>\n",
       "      <th>0</th>\n",
       "      <td>knb-lter-sev.202.312958</td>\n",
       "      <td>Point-Quarter Harvested Plant Weight Measureme...</td>\n",
       "      <td>doi:10.6073/pasta/c7334a04af15e27443e9a7e07495...</td>\n",
       "      <td>2016</td>\n",
       "    </tr>\n",
       "    <tr>\n",
       "      <th>1</th>\n",
       "      <td>knb-lter-sev.203.111849</td>\n",
       "      <td>Larrea Seedling Monitoring Study at the Sevill...</td>\n",
       "      <td>doi:10.6073/pasta/751d60c674f8750c1d3dfaca1e78...</td>\n",
       "      <td>2011</td>\n",
       "    </tr>\n",
       "    <tr>\n",
       "      <th>2</th>\n",
       "      <td>knb-lter-sev.204.154836</td>\n",
       "      <td>Tree Mast Production in Pinyon-Juniper-Oak For...</td>\n",
       "      <td>doi:10.6073/pasta/f6cb97e094966c0af30206e767b0...</td>\n",
       "      <td>2010</td>\n",
       "    </tr>\n",
       "    <tr>\n",
       "      <th>3</th>\n",
       "      <td>knb-lter-sev.205.210628</td>\n",
       "      <td>Warming-El Nino-Nitrogen Deposition Experiment...</td>\n",
       "      <td>doi:10.6073/pasta/1dec3c20ab98ad9edbd173252f67...</td>\n",
       "      <td>2016</td>\n",
       "    </tr>\n",
       "    <tr>\n",
       "      <th>4</th>\n",
       "      <td>knb-lter-sev.206.217925</td>\n",
       "      <td>Monsoon Rainfall Manipulation Experiment (MRME...</td>\n",
       "      <td>doi:10.6073/pasta/9372a5dea415f041672cdc257c84...</td>\n",
       "      <td>2010</td>\n",
       "    </tr>\n",
       "  </tbody>\n",
       "</table>\n",
       "</div>"
      ],
      "text/plain": [
       "                 packageid                                              title  \\\n",
       "0  knb-lter-sev.202.312958  Point-Quarter Harvested Plant Weight Measureme...   \n",
       "1  knb-lter-sev.203.111849  Larrea Seedling Monitoring Study at the Sevill...   \n",
       "2  knb-lter-sev.204.154836  Tree Mast Production in Pinyon-Juniper-Oak For...   \n",
       "3  knb-lter-sev.205.210628  Warming-El Nino-Nitrogen Deposition Experiment...   \n",
       "4  knb-lter-sev.206.217925  Monsoon Rainfall Manipulation Experiment (MRME...   \n",
       "\n",
       "                                                 doi pubdate  \n",
       "0  doi:10.6073/pasta/c7334a04af15e27443e9a7e07495...    2016  \n",
       "1  doi:10.6073/pasta/751d60c674f8750c1d3dfaca1e78...    2011  \n",
       "2  doi:10.6073/pasta/f6cb97e094966c0af30206e767b0...    2010  \n",
       "3  doi:10.6073/pasta/1dec3c20ab98ad9edbd173252f67...    2016  \n",
       "4  doi:10.6073/pasta/9372a5dea415f041672cdc257c84...    2010  "
      ]
     },
     "execution_count": 16,
     "metadata": {},
     "output_type": "execute_result"
    }
   ],
   "source": [
    "SEV_clean.head()"
   ]
  },
  {
   "cell_type": "code",
   "execution_count": 17,
   "metadata": {},
   "outputs": [],
   "source": [
    "SEV_clean[['junk1','package_number','version']] = SEV_clean['packageid'].str.split('.', expand=True)"
   ]
  },
  {
   "cell_type": "code",
   "execution_count": 18,
   "metadata": {},
   "outputs": [
    {
     "data": {
      "text/html": [
       "<div>\n",
       "<style scoped>\n",
       "    .dataframe tbody tr th:only-of-type {\n",
       "        vertical-align: middle;\n",
       "    }\n",
       "\n",
       "    .dataframe tbody tr th {\n",
       "        vertical-align: top;\n",
       "    }\n",
       "\n",
       "    .dataframe thead th {\n",
       "        text-align: right;\n",
       "    }\n",
       "</style>\n",
       "<table border=\"1\" class=\"dataframe\">\n",
       "  <thead>\n",
       "    <tr style=\"text-align: right;\">\n",
       "      <th></th>\n",
       "      <th>packageid</th>\n",
       "      <th>title</th>\n",
       "      <th>doi</th>\n",
       "      <th>pubdate</th>\n",
       "      <th>junk1</th>\n",
       "      <th>package_number</th>\n",
       "      <th>version</th>\n",
       "    </tr>\n",
       "  </thead>\n",
       "  <tbody>\n",
       "    <tr>\n",
       "      <th>0</th>\n",
       "      <td>knb-lter-sev.202.312958</td>\n",
       "      <td>Point-Quarter Harvested Plant Weight Measureme...</td>\n",
       "      <td>doi:10.6073/pasta/c7334a04af15e27443e9a7e07495...</td>\n",
       "      <td>2016</td>\n",
       "      <td>knb-lter-sev</td>\n",
       "      <td>202</td>\n",
       "      <td>312958</td>\n",
       "    </tr>\n",
       "    <tr>\n",
       "      <th>1</th>\n",
       "      <td>knb-lter-sev.203.111849</td>\n",
       "      <td>Larrea Seedling Monitoring Study at the Sevill...</td>\n",
       "      <td>doi:10.6073/pasta/751d60c674f8750c1d3dfaca1e78...</td>\n",
       "      <td>2011</td>\n",
       "      <td>knb-lter-sev</td>\n",
       "      <td>203</td>\n",
       "      <td>111849</td>\n",
       "    </tr>\n",
       "    <tr>\n",
       "      <th>2</th>\n",
       "      <td>knb-lter-sev.204.154836</td>\n",
       "      <td>Tree Mast Production in Pinyon-Juniper-Oak For...</td>\n",
       "      <td>doi:10.6073/pasta/f6cb97e094966c0af30206e767b0...</td>\n",
       "      <td>2010</td>\n",
       "      <td>knb-lter-sev</td>\n",
       "      <td>204</td>\n",
       "      <td>154836</td>\n",
       "    </tr>\n",
       "    <tr>\n",
       "      <th>3</th>\n",
       "      <td>knb-lter-sev.205.210628</td>\n",
       "      <td>Warming-El Nino-Nitrogen Deposition Experiment...</td>\n",
       "      <td>doi:10.6073/pasta/1dec3c20ab98ad9edbd173252f67...</td>\n",
       "      <td>2016</td>\n",
       "      <td>knb-lter-sev</td>\n",
       "      <td>205</td>\n",
       "      <td>210628</td>\n",
       "    </tr>\n",
       "    <tr>\n",
       "      <th>4</th>\n",
       "      <td>knb-lter-sev.206.217925</td>\n",
       "      <td>Monsoon Rainfall Manipulation Experiment (MRME...</td>\n",
       "      <td>doi:10.6073/pasta/9372a5dea415f041672cdc257c84...</td>\n",
       "      <td>2010</td>\n",
       "      <td>knb-lter-sev</td>\n",
       "      <td>206</td>\n",
       "      <td>217925</td>\n",
       "    </tr>\n",
       "  </tbody>\n",
       "</table>\n",
       "</div>"
      ],
      "text/plain": [
       "                 packageid                                              title  \\\n",
       "0  knb-lter-sev.202.312958  Point-Quarter Harvested Plant Weight Measureme...   \n",
       "1  knb-lter-sev.203.111849  Larrea Seedling Monitoring Study at the Sevill...   \n",
       "2  knb-lter-sev.204.154836  Tree Mast Production in Pinyon-Juniper-Oak For...   \n",
       "3  knb-lter-sev.205.210628  Warming-El Nino-Nitrogen Deposition Experiment...   \n",
       "4  knb-lter-sev.206.217925  Monsoon Rainfall Manipulation Experiment (MRME...   \n",
       "\n",
       "                                                 doi pubdate         junk1  \\\n",
       "0  doi:10.6073/pasta/c7334a04af15e27443e9a7e07495...    2016  knb-lter-sev   \n",
       "1  doi:10.6073/pasta/751d60c674f8750c1d3dfaca1e78...    2011  knb-lter-sev   \n",
       "2  doi:10.6073/pasta/f6cb97e094966c0af30206e767b0...    2010  knb-lter-sev   \n",
       "3  doi:10.6073/pasta/1dec3c20ab98ad9edbd173252f67...    2016  knb-lter-sev   \n",
       "4  doi:10.6073/pasta/9372a5dea415f041672cdc257c84...    2010  knb-lter-sev   \n",
       "\n",
       "  package_number version  \n",
       "0            202  312958  \n",
       "1            203  111849  \n",
       "2            204  154836  \n",
       "3            205  210628  \n",
       "4            206  217925  "
      ]
     },
     "execution_count": 18,
     "metadata": {},
     "output_type": "execute_result"
    }
   ],
   "source": [
    "SEV_clean.head()"
   ]
  },
  {
   "cell_type": "code",
   "execution_count": 19,
   "metadata": {},
   "outputs": [],
   "source": [
    "SEV_clean = SEV_clean.drop(columns=['junk1'])"
   ]
  },
  {
   "cell_type": "code",
   "execution_count": 20,
   "metadata": {},
   "outputs": [],
   "source": [
    "SEV_clean_final = SEV_clean[['package_number', 'version', 'title', 'packageid', 'doi', 'pubdate']].sort_values(['package_number'])"
   ]
  },
  {
   "cell_type": "code",
   "execution_count": 21,
   "metadata": {},
   "outputs": [],
   "source": [
    "SEV_clean_final['package_number'] = pd.to_numeric(SEV_clean_final['package_number'])"
   ]
  },
  {
   "cell_type": "code",
   "execution_count": 22,
   "metadata": {},
   "outputs": [],
   "source": [
    "SEV_clean_final = SEV_clean_final.sort_values(['package_number'])"
   ]
  },
  {
   "cell_type": "code",
   "execution_count": 23,
   "metadata": {},
   "outputs": [
    {
     "data": {
      "text/html": [
       "<div>\n",
       "<style scoped>\n",
       "    .dataframe tbody tr th:only-of-type {\n",
       "        vertical-align: middle;\n",
       "    }\n",
       "\n",
       "    .dataframe tbody tr th {\n",
       "        vertical-align: top;\n",
       "    }\n",
       "\n",
       "    .dataframe thead th {\n",
       "        text-align: right;\n",
       "    }\n",
       "</style>\n",
       "<table border=\"1\" class=\"dataframe\">\n",
       "  <thead>\n",
       "    <tr style=\"text-align: right;\">\n",
       "      <th></th>\n",
       "      <th>package_number</th>\n",
       "      <th>version</th>\n",
       "      <th>title</th>\n",
       "      <th>packageid</th>\n",
       "      <th>doi</th>\n",
       "      <th>pubdate</th>\n",
       "    </tr>\n",
       "  </thead>\n",
       "  <tbody>\n",
       "    <tr>\n",
       "      <th>189</th>\n",
       "      <td>1</td>\n",
       "      <td>14</td>\n",
       "      <td>Meteorology Data from the Sevilleta National W...</td>\n",
       "      <td>knb-lter-sev.1.14</td>\n",
       "      <td>doi:10.6073/pasta/1cbc37ae4d40b3844b5e4be9f6f1...</td>\n",
       "      <td>2021</td>\n",
       "    </tr>\n",
       "    <tr>\n",
       "      <th>87</th>\n",
       "      <td>2</td>\n",
       "      <td>329007</td>\n",
       "      <td>Precipitation Chemistry Data For the Sevilleta...</td>\n",
       "      <td>knb-lter-sev.2.329007</td>\n",
       "      <td>doi:10.6073/pasta/d44f1fc24b685c33d3fdafdab4c8...</td>\n",
       "      <td>2010</td>\n",
       "    </tr>\n",
       "    <tr>\n",
       "      <th>88</th>\n",
       "      <td>4</td>\n",
       "      <td>202002</td>\n",
       "      <td>Grassland Vegetation Line-Intercept Transects ...</td>\n",
       "      <td>knb-lter-sev.4.202002</td>\n",
       "      <td>doi:10.6073/pasta/63f506aaf52e7a6ecb3fb296b9e8...</td>\n",
       "      <td>2020</td>\n",
       "    </tr>\n",
       "    <tr>\n",
       "      <th>89</th>\n",
       "      <td>6</td>\n",
       "      <td>151654</td>\n",
       "      <td>Pinon Branch Demography Study at the Sevilleta...</td>\n",
       "      <td>knb-lter-sev.6.151654</td>\n",
       "      <td>doi:10.6073/pasta/7f398daeaff9bb36d10921f8b405...</td>\n",
       "      <td>2016</td>\n",
       "    </tr>\n",
       "    <tr>\n",
       "      <th>90</th>\n",
       "      <td>7</td>\n",
       "      <td>183180</td>\n",
       "      <td>Plant Water Potentials and Plant Physiology at...</td>\n",
       "      <td>knb-lter-sev.7.183180</td>\n",
       "      <td>doi:10.6073/pasta/8098bba14324c8e7ba6e7dc30518...</td>\n",
       "      <td>2011</td>\n",
       "    </tr>\n",
       "  </tbody>\n",
       "</table>\n",
       "</div>"
      ],
      "text/plain": [
       "     package_number version  \\\n",
       "189               1      14   \n",
       "87                2  329007   \n",
       "88                4  202002   \n",
       "89                6  151654   \n",
       "90                7  183180   \n",
       "\n",
       "                                                 title              packageid  \\\n",
       "189  Meteorology Data from the Sevilleta National W...      knb-lter-sev.1.14   \n",
       "87   Precipitation Chemistry Data For the Sevilleta...  knb-lter-sev.2.329007   \n",
       "88   Grassland Vegetation Line-Intercept Transects ...  knb-lter-sev.4.202002   \n",
       "89   Pinon Branch Demography Study at the Sevilleta...  knb-lter-sev.6.151654   \n",
       "90   Plant Water Potentials and Plant Physiology at...  knb-lter-sev.7.183180   \n",
       "\n",
       "                                                   doi pubdate  \n",
       "189  doi:10.6073/pasta/1cbc37ae4d40b3844b5e4be9f6f1...    2021  \n",
       "87   doi:10.6073/pasta/d44f1fc24b685c33d3fdafdab4c8...    2010  \n",
       "88   doi:10.6073/pasta/63f506aaf52e7a6ecb3fb296b9e8...    2020  \n",
       "89   doi:10.6073/pasta/7f398daeaff9bb36d10921f8b405...    2016  \n",
       "90   doi:10.6073/pasta/8098bba14324c8e7ba6e7dc30518...    2011  "
      ]
     },
     "execution_count": 23,
     "metadata": {},
     "output_type": "execute_result"
    }
   ],
   "source": [
    "SEV_clean_final.head()"
   ]
  },
  {
   "cell_type": "code",
   "execution_count": 24,
   "metadata": {},
   "outputs": [],
   "source": [
    "csv_file_name = \"../output/PASTA_SEV_Data_Packages_List_\" + date.today().strftime(\"%Y%m%d\") + \".csv\"\n",
    "csv_file_name\n",
    "SEV_clean_final.to_csv(csv_file_name, index=False)"
   ]
  },
  {
   "cell_type": "code",
   "execution_count": 25,
   "metadata": {},
   "outputs": [
    {
     "name": "stdout",
     "output_type": "stream",
     "text": [
      "<class 'pandas.core.frame.DataFrame'>\n",
      "Int64Index: 199 entries, 189 to 80\n",
      "Data columns (total 6 columns):\n",
      " #   Column          Non-Null Count  Dtype \n",
      "---  ------          --------------  ----- \n",
      " 0   package_number  199 non-null    int64 \n",
      " 1   version         199 non-null    object\n",
      " 2   title           199 non-null    object\n",
      " 3   packageid       199 non-null    object\n",
      " 4   doi             199 non-null    object\n",
      " 5   pubdate         196 non-null    object\n",
      "dtypes: int64(1), object(5)\n",
      "memory usage: 10.9+ KB\n"
     ]
    }
   ],
   "source": [
    "SEV_clean_final.info()"
   ]
  },
  {
   "cell_type": "code",
   "execution_count": null,
   "metadata": {},
   "outputs": [],
   "source": []
  }
 ],
 "metadata": {
  "kernelspec": {
   "display_name": "Python 3",
   "language": "python",
   "name": "python3"
  },
  "language_info": {
   "codemirror_mode": {
    "name": "ipython",
    "version": 3
   },
   "file_extension": ".py",
   "mimetype": "text/x-python",
   "name": "python",
   "nbconvert_exporter": "python",
   "pygments_lexer": "ipython3",
   "version": "3.7.6"
  },
  "toc": {
   "base_numbering": 1,
   "nav_menu": {},
   "number_sections": true,
   "sideBar": true,
   "skip_h1_title": false,
   "title_cell": "Table of Contents",
   "title_sidebar": "Contents",
   "toc_cell": false,
   "toc_position": {},
   "toc_section_display": true,
   "toc_window_display": false
  }
 },
 "nbformat": 4,
 "nbformat_minor": 4
}
