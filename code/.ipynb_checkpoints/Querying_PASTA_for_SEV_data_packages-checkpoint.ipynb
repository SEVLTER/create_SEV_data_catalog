{
 "cells": [
  {
   "cell_type": "markdown",
   "metadata": {},
   "source": [
    "KM Hall \n",
    "\n",
    "This code queries EDI's PASTA database using their API, and pulls down the SEV's most recent data catalog. This catalog is then written to an XML and CSV file."
   ]
  },
  {
   "cell_type": "code",
   "execution_count": 1,
   "metadata": {},
   "outputs": [],
   "source": [
    "import pandas as pd\n",
    "import numpy as np\n",
    "import requests\n",
    "import xml.etree.ElementTree as ET\n",
    "from datetime import date"
   ]
  },
  {
   "cell_type": "code",
   "execution_count": 2,
   "metadata": {},
   "outputs": [],
   "source": [
    "base_url = 'https://pasta.lternet.edu/package/search/eml'"
   ]
  },
  {
   "cell_type": "code",
   "execution_count": 3,
   "metadata": {},
   "outputs": [],
   "source": [
    "r = requests.get(base_url + '?q=scope:knb-lter-sev&fl=packageid,title,doi&rows=100000')"
   ]
  },
  {
   "cell_type": "code",
   "execution_count": 4,
   "metadata": {
    "scrolled": true
   },
   "outputs": [
    {
     "data": {
      "text/plain": [
       "'20200512'"
      ]
     },
     "execution_count": 4,
     "metadata": {},
     "output_type": "execute_result"
    }
   ],
   "source": [
    "date.today().strftime(\"%Y%m%d\")"
   ]
  },
  {
   "cell_type": "code",
   "execution_count": 5,
   "metadata": {},
   "outputs": [
    {
     "name": "stdout",
     "output_type": "stream",
     "text": [
      "test20200512.xml\n"
     ]
    }
   ],
   "source": [
    "print(\"test\" + date.today().strftime(\"%Y%m%d\") + \".xml\")"
   ]
  },
  {
   "cell_type": "code",
   "execution_count": 6,
   "metadata": {},
   "outputs": [
    {
     "data": {
      "text/plain": [
       "59603"
      ]
     },
     "execution_count": 6,
     "metadata": {},
     "output_type": "execute_result"
    }
   ],
   "source": [
    "txt = r.text \n",
    "xml_file_name = \"../output/PASTA_SEV_Data_Packages_List_\" + date.today().strftime(\"%Y%m%d\") + \".xml\"\n",
    "xml_file_name\n",
    "myfile = open(xml_file_name, \"w\")  \n",
    "myfile.write(txt)  "
   ]
  },
  {
   "cell_type": "code",
   "execution_count": 7,
   "metadata": {},
   "outputs": [
    {
     "data": {
      "text/html": [
       "<div>\n",
       "<style scoped>\n",
       "    .dataframe tbody tr th:only-of-type {\n",
       "        vertical-align: middle;\n",
       "    }\n",
       "\n",
       "    .dataframe tbody tr th {\n",
       "        vertical-align: top;\n",
       "    }\n",
       "\n",
       "    .dataframe thead th {\n",
       "        text-align: right;\n",
       "    }\n",
       "</style>\n",
       "<table border=\"1\" class=\"dataframe\">\n",
       "  <thead>\n",
       "    <tr style=\"text-align: right;\">\n",
       "      <th></th>\n",
       "      <th>packageid</th>\n",
       "      <th>title</th>\n",
       "      <th>doi</th>\n",
       "    </tr>\n",
       "  </thead>\n",
       "  <tbody>\n",
       "    <tr>\n",
       "      <th>0</th>\n",
       "      <td>knb-lter-sev.201.271014</td>\n",
       "      <td>Point-Quarter Distance and Dimension Measureme...</td>\n",
       "      <td>doi:10.6073/pasta/aa4076ed1ed8cf1150618463981e...</td>\n",
       "    </tr>\n",
       "    <tr>\n",
       "      <th>1</th>\n",
       "      <td>knb-lter-sev.202.312958</td>\n",
       "      <td>Point-Quarter Harvested Plant Weight Measureme...</td>\n",
       "      <td>doi:10.6073/pasta/c7334a04af15e27443e9a7e07495...</td>\n",
       "    </tr>\n",
       "    <tr>\n",
       "      <th>2</th>\n",
       "      <td>knb-lter-sev.203.111849</td>\n",
       "      <td>Larrea Seedling Monitoring Study at the Sevill...</td>\n",
       "      <td>doi:10.6073/pasta/751d60c674f8750c1d3dfaca1e78...</td>\n",
       "    </tr>\n",
       "    <tr>\n",
       "      <th>3</th>\n",
       "      <td>knb-lter-sev.204.154836</td>\n",
       "      <td>Tree Mast Production in Pinyon-Juniper-Oak For...</td>\n",
       "      <td>doi:10.6073/pasta/f6cb97e094966c0af30206e767b0...</td>\n",
       "    </tr>\n",
       "    <tr>\n",
       "      <th>4</th>\n",
       "      <td>knb-lter-sev.205.210628</td>\n",
       "      <td>Warming-El Nino-Nitrogen Deposition Experiment...</td>\n",
       "      <td>doi:10.6073/pasta/1dec3c20ab98ad9edbd173252f67...</td>\n",
       "    </tr>\n",
       "    <tr>\n",
       "      <th>...</th>\n",
       "      <td>...</td>\n",
       "      <td>...</td>\n",
       "      <td>...</td>\n",
       "    </tr>\n",
       "    <tr>\n",
       "      <th>188</th>\n",
       "      <td>knb-lter-sev.145.204489</td>\n",
       "      <td>US-Hungary Grassland Biodiversity (cross-site ...</td>\n",
       "      <td>doi:10.6073/pasta/9f94c178469e01dd1d485eb01aca...</td>\n",
       "    </tr>\n",
       "    <tr>\n",
       "      <th>189</th>\n",
       "      <td>knb-lter-sev.146.194599</td>\n",
       "      <td>Ecological Effects of Prescribed Fire on Soils...</td>\n",
       "      <td>doi:10.6073/pasta/9bc0b68f2e5b354d2324e9dc86a6...</td>\n",
       "    </tr>\n",
       "    <tr>\n",
       "      <th>190</th>\n",
       "      <td>knb-lter-sev.134.265065</td>\n",
       "      <td>Long-term Dynamics in Soil Field Available Nit...</td>\n",
       "      <td>doi:10.6073/pasta/67b0cfde84800a08d37e4e94a403...</td>\n",
       "    </tr>\n",
       "    <tr>\n",
       "      <th>191</th>\n",
       "      <td>knb-lter-sev.200.174699</td>\n",
       "      <td>Discontinued Vegetation Line-Intercept Transec...</td>\n",
       "      <td>doi:10.6073/pasta/5ed2fb6c74258ded76f7c9869d35...</td>\n",
       "    </tr>\n",
       "    <tr>\n",
       "      <th>192</th>\n",
       "      <td>knb-lter-sev.322.1</td>\n",
       "      <td>What could explain 13C signature of dryland bi...</td>\n",
       "      <td>doi:10.6073/pasta/b59b733653671fc1a28f12a865e1...</td>\n",
       "    </tr>\n",
       "  </tbody>\n",
       "</table>\n",
       "<p>193 rows × 3 columns</p>\n",
       "</div>"
      ],
      "text/plain": [
       "                   packageid  \\\n",
       "0    knb-lter-sev.201.271014   \n",
       "1    knb-lter-sev.202.312958   \n",
       "2    knb-lter-sev.203.111849   \n",
       "3    knb-lter-sev.204.154836   \n",
       "4    knb-lter-sev.205.210628   \n",
       "..                       ...   \n",
       "188  knb-lter-sev.145.204489   \n",
       "189  knb-lter-sev.146.194599   \n",
       "190  knb-lter-sev.134.265065   \n",
       "191  knb-lter-sev.200.174699   \n",
       "192       knb-lter-sev.322.1   \n",
       "\n",
       "                                                 title  \\\n",
       "0    Point-Quarter Distance and Dimension Measureme...   \n",
       "1    Point-Quarter Harvested Plant Weight Measureme...   \n",
       "2    Larrea Seedling Monitoring Study at the Sevill...   \n",
       "3    Tree Mast Production in Pinyon-Juniper-Oak For...   \n",
       "4    Warming-El Nino-Nitrogen Deposition Experiment...   \n",
       "..                                                 ...   \n",
       "188  US-Hungary Grassland Biodiversity (cross-site ...   \n",
       "189  Ecological Effects of Prescribed Fire on Soils...   \n",
       "190  Long-term Dynamics in Soil Field Available Nit...   \n",
       "191  Discontinued Vegetation Line-Intercept Transec...   \n",
       "192  What could explain 13C signature of dryland bi...   \n",
       "\n",
       "                                                   doi  \n",
       "0    doi:10.6073/pasta/aa4076ed1ed8cf1150618463981e...  \n",
       "1    doi:10.6073/pasta/c7334a04af15e27443e9a7e07495...  \n",
       "2    doi:10.6073/pasta/751d60c674f8750c1d3dfaca1e78...  \n",
       "3    doi:10.6073/pasta/f6cb97e094966c0af30206e767b0...  \n",
       "4    doi:10.6073/pasta/1dec3c20ab98ad9edbd173252f67...  \n",
       "..                                                 ...  \n",
       "188  doi:10.6073/pasta/9f94c178469e01dd1d485eb01aca...  \n",
       "189  doi:10.6073/pasta/9bc0b68f2e5b354d2324e9dc86a6...  \n",
       "190  doi:10.6073/pasta/67b0cfde84800a08d37e4e94a403...  \n",
       "191  doi:10.6073/pasta/5ed2fb6c74258ded76f7c9869d35...  \n",
       "192  doi:10.6073/pasta/b59b733653671fc1a28f12a865e1...  \n",
       "\n",
       "[193 rows x 3 columns]"
      ]
     },
     "execution_count": 7,
     "metadata": {},
     "output_type": "execute_result"
    }
   ],
   "source": [
    "# reads in xml file that was written out in the previous step and converts it to an easier to use format\n",
    "\n",
    "def getvalueofnode(node):\n",
    "    return node.text if node is not None else None\n",
    "\n",
    "def main():\n",
    "    \"\"\" main \"\"\"\n",
    "    parsed_xml = ET.parse(xml_file_name)\n",
    "    dfcols = ['packageid', 'title', 'doi']\n",
    "    df_xml = pd.DataFrame(columns=dfcols)\n",
    " \n",
    "    for node in parsed_xml.getroot():\n",
    "        #name = node.attrib.get('name')\n",
    "        packageid = node.find('packageid')\n",
    "        title = node.find('title')\n",
    "        doi = node.find('doi')\n",
    "        \n",
    " \n",
    "        df_xml = df_xml.append(\n",
    "            pd.Series([getvalueofnode(packageid), getvalueofnode(title),\n",
    "                       getvalueofnode(doi)], index=dfcols),\n",
    "            ignore_index=True)\n",
    " \n",
    "    #print(df_xml)\n",
    "    return df_xml\n",
    "    \n",
    " \n",
    "main()"
   ]
  },
  {
   "cell_type": "code",
   "execution_count": 8,
   "metadata": {},
   "outputs": [],
   "source": [
    "SEV_clean = main()"
   ]
  },
  {
   "cell_type": "code",
   "execution_count": 9,
   "metadata": {},
   "outputs": [
    {
     "name": "stdout",
     "output_type": "stream",
     "text": [
      "<class 'pandas.core.frame.DataFrame'>\n",
      "RangeIndex: 193 entries, 0 to 192\n",
      "Data columns (total 3 columns):\n",
      "packageid    193 non-null object\n",
      "title        193 non-null object\n",
      "doi          193 non-null object\n",
      "dtypes: object(3)\n",
      "memory usage: 4.6+ KB\n"
     ]
    }
   ],
   "source": [
    "SEV_clean.info()"
   ]
  },
  {
   "cell_type": "code",
   "execution_count": 10,
   "metadata": {},
   "outputs": [
    {
     "data": {
      "text/html": [
       "<div>\n",
       "<style scoped>\n",
       "    .dataframe tbody tr th:only-of-type {\n",
       "        vertical-align: middle;\n",
       "    }\n",
       "\n",
       "    .dataframe tbody tr th {\n",
       "        vertical-align: top;\n",
       "    }\n",
       "\n",
       "    .dataframe thead th {\n",
       "        text-align: right;\n",
       "    }\n",
       "</style>\n",
       "<table border=\"1\" class=\"dataframe\">\n",
       "  <thead>\n",
       "    <tr style=\"text-align: right;\">\n",
       "      <th></th>\n",
       "      <th>packageid</th>\n",
       "      <th>title</th>\n",
       "      <th>doi</th>\n",
       "    </tr>\n",
       "  </thead>\n",
       "  <tbody>\n",
       "    <tr>\n",
       "      <th>0</th>\n",
       "      <td>knb-lter-sev.201.271014</td>\n",
       "      <td>Point-Quarter Distance and Dimension Measureme...</td>\n",
       "      <td>doi:10.6073/pasta/aa4076ed1ed8cf1150618463981e...</td>\n",
       "    </tr>\n",
       "    <tr>\n",
       "      <th>1</th>\n",
       "      <td>knb-lter-sev.202.312958</td>\n",
       "      <td>Point-Quarter Harvested Plant Weight Measureme...</td>\n",
       "      <td>doi:10.6073/pasta/c7334a04af15e27443e9a7e07495...</td>\n",
       "    </tr>\n",
       "    <tr>\n",
       "      <th>2</th>\n",
       "      <td>knb-lter-sev.203.111849</td>\n",
       "      <td>Larrea Seedling Monitoring Study at the Sevill...</td>\n",
       "      <td>doi:10.6073/pasta/751d60c674f8750c1d3dfaca1e78...</td>\n",
       "    </tr>\n",
       "    <tr>\n",
       "      <th>3</th>\n",
       "      <td>knb-lter-sev.204.154836</td>\n",
       "      <td>Tree Mast Production in Pinyon-Juniper-Oak For...</td>\n",
       "      <td>doi:10.6073/pasta/f6cb97e094966c0af30206e767b0...</td>\n",
       "    </tr>\n",
       "    <tr>\n",
       "      <th>4</th>\n",
       "      <td>knb-lter-sev.205.210628</td>\n",
       "      <td>Warming-El Nino-Nitrogen Deposition Experiment...</td>\n",
       "      <td>doi:10.6073/pasta/1dec3c20ab98ad9edbd173252f67...</td>\n",
       "    </tr>\n",
       "  </tbody>\n",
       "</table>\n",
       "</div>"
      ],
      "text/plain": [
       "                 packageid                                              title  \\\n",
       "0  knb-lter-sev.201.271014  Point-Quarter Distance and Dimension Measureme...   \n",
       "1  knb-lter-sev.202.312958  Point-Quarter Harvested Plant Weight Measureme...   \n",
       "2  knb-lter-sev.203.111849  Larrea Seedling Monitoring Study at the Sevill...   \n",
       "3  knb-lter-sev.204.154836  Tree Mast Production in Pinyon-Juniper-Oak For...   \n",
       "4  knb-lter-sev.205.210628  Warming-El Nino-Nitrogen Deposition Experiment...   \n",
       "\n",
       "                                                 doi  \n",
       "0  doi:10.6073/pasta/aa4076ed1ed8cf1150618463981e...  \n",
       "1  doi:10.6073/pasta/c7334a04af15e27443e9a7e07495...  \n",
       "2  doi:10.6073/pasta/751d60c674f8750c1d3dfaca1e78...  \n",
       "3  doi:10.6073/pasta/f6cb97e094966c0af30206e767b0...  \n",
       "4  doi:10.6073/pasta/1dec3c20ab98ad9edbd173252f67...  "
      ]
     },
     "execution_count": 10,
     "metadata": {},
     "output_type": "execute_result"
    }
   ],
   "source": [
    "SEV_clean.head()"
   ]
  },
  {
   "cell_type": "code",
   "execution_count": 11,
   "metadata": {},
   "outputs": [],
   "source": [
    "SEV_clean[['junk1','package_number','version']] = SEV_clean['packageid'].str.split('.', expand=True)"
   ]
  },
  {
   "cell_type": "code",
   "execution_count": 12,
   "metadata": {},
   "outputs": [
    {
     "data": {
      "text/html": [
       "<div>\n",
       "<style scoped>\n",
       "    .dataframe tbody tr th:only-of-type {\n",
       "        vertical-align: middle;\n",
       "    }\n",
       "\n",
       "    .dataframe tbody tr th {\n",
       "        vertical-align: top;\n",
       "    }\n",
       "\n",
       "    .dataframe thead th {\n",
       "        text-align: right;\n",
       "    }\n",
       "</style>\n",
       "<table border=\"1\" class=\"dataframe\">\n",
       "  <thead>\n",
       "    <tr style=\"text-align: right;\">\n",
       "      <th></th>\n",
       "      <th>packageid</th>\n",
       "      <th>title</th>\n",
       "      <th>doi</th>\n",
       "      <th>junk1</th>\n",
       "      <th>package_number</th>\n",
       "      <th>version</th>\n",
       "    </tr>\n",
       "  </thead>\n",
       "  <tbody>\n",
       "    <tr>\n",
       "      <th>0</th>\n",
       "      <td>knb-lter-sev.201.271014</td>\n",
       "      <td>Point-Quarter Distance and Dimension Measureme...</td>\n",
       "      <td>doi:10.6073/pasta/aa4076ed1ed8cf1150618463981e...</td>\n",
       "      <td>knb-lter-sev</td>\n",
       "      <td>201</td>\n",
       "      <td>271014</td>\n",
       "    </tr>\n",
       "    <tr>\n",
       "      <th>1</th>\n",
       "      <td>knb-lter-sev.202.312958</td>\n",
       "      <td>Point-Quarter Harvested Plant Weight Measureme...</td>\n",
       "      <td>doi:10.6073/pasta/c7334a04af15e27443e9a7e07495...</td>\n",
       "      <td>knb-lter-sev</td>\n",
       "      <td>202</td>\n",
       "      <td>312958</td>\n",
       "    </tr>\n",
       "    <tr>\n",
       "      <th>2</th>\n",
       "      <td>knb-lter-sev.203.111849</td>\n",
       "      <td>Larrea Seedling Monitoring Study at the Sevill...</td>\n",
       "      <td>doi:10.6073/pasta/751d60c674f8750c1d3dfaca1e78...</td>\n",
       "      <td>knb-lter-sev</td>\n",
       "      <td>203</td>\n",
       "      <td>111849</td>\n",
       "    </tr>\n",
       "    <tr>\n",
       "      <th>3</th>\n",
       "      <td>knb-lter-sev.204.154836</td>\n",
       "      <td>Tree Mast Production in Pinyon-Juniper-Oak For...</td>\n",
       "      <td>doi:10.6073/pasta/f6cb97e094966c0af30206e767b0...</td>\n",
       "      <td>knb-lter-sev</td>\n",
       "      <td>204</td>\n",
       "      <td>154836</td>\n",
       "    </tr>\n",
       "    <tr>\n",
       "      <th>4</th>\n",
       "      <td>knb-lter-sev.205.210628</td>\n",
       "      <td>Warming-El Nino-Nitrogen Deposition Experiment...</td>\n",
       "      <td>doi:10.6073/pasta/1dec3c20ab98ad9edbd173252f67...</td>\n",
       "      <td>knb-lter-sev</td>\n",
       "      <td>205</td>\n",
       "      <td>210628</td>\n",
       "    </tr>\n",
       "  </tbody>\n",
       "</table>\n",
       "</div>"
      ],
      "text/plain": [
       "                 packageid                                              title  \\\n",
       "0  knb-lter-sev.201.271014  Point-Quarter Distance and Dimension Measureme...   \n",
       "1  knb-lter-sev.202.312958  Point-Quarter Harvested Plant Weight Measureme...   \n",
       "2  knb-lter-sev.203.111849  Larrea Seedling Monitoring Study at the Sevill...   \n",
       "3  knb-lter-sev.204.154836  Tree Mast Production in Pinyon-Juniper-Oak For...   \n",
       "4  knb-lter-sev.205.210628  Warming-El Nino-Nitrogen Deposition Experiment...   \n",
       "\n",
       "                                                 doi         junk1  \\\n",
       "0  doi:10.6073/pasta/aa4076ed1ed8cf1150618463981e...  knb-lter-sev   \n",
       "1  doi:10.6073/pasta/c7334a04af15e27443e9a7e07495...  knb-lter-sev   \n",
       "2  doi:10.6073/pasta/751d60c674f8750c1d3dfaca1e78...  knb-lter-sev   \n",
       "3  doi:10.6073/pasta/f6cb97e094966c0af30206e767b0...  knb-lter-sev   \n",
       "4  doi:10.6073/pasta/1dec3c20ab98ad9edbd173252f67...  knb-lter-sev   \n",
       "\n",
       "  package_number version  \n",
       "0            201  271014  \n",
       "1            202  312958  \n",
       "2            203  111849  \n",
       "3            204  154836  \n",
       "4            205  210628  "
      ]
     },
     "execution_count": 12,
     "metadata": {},
     "output_type": "execute_result"
    }
   ],
   "source": [
    "SEV_clean.head()"
   ]
  },
  {
   "cell_type": "code",
   "execution_count": 13,
   "metadata": {},
   "outputs": [],
   "source": [
    "SEV_clean = SEV_clean.drop(columns=['junk1'])"
   ]
  },
  {
   "cell_type": "code",
   "execution_count": 15,
   "metadata": {},
   "outputs": [],
   "source": [
    "SEV_clean_final = SEV_clean[['package_number', 'version', 'title', 'packageid', 'doi']].sort_values(['package_number'])"
   ]
  },
  {
   "cell_type": "code",
   "execution_count": 18,
   "metadata": {},
   "outputs": [],
   "source": [
    "SEV_clean_final['package_number'] = pd.to_numeric(SEV_clean_final['package_number'])"
   ]
  },
  {
   "cell_type": "code",
   "execution_count": 19,
   "metadata": {},
   "outputs": [],
   "source": [
    "SEV_clean_final = SEV_clean_final.sort_values(['package_number'])"
   ]
  },
  {
   "cell_type": "code",
   "execution_count": 20,
   "metadata": {},
   "outputs": [
    {
     "data": {
      "text/html": [
       "<div>\n",
       "<style scoped>\n",
       "    .dataframe tbody tr th:only-of-type {\n",
       "        vertical-align: middle;\n",
       "    }\n",
       "\n",
       "    .dataframe tbody tr th {\n",
       "        vertical-align: top;\n",
       "    }\n",
       "\n",
       "    .dataframe thead th {\n",
       "        text-align: right;\n",
       "    }\n",
       "</style>\n",
       "<table border=\"1\" class=\"dataframe\">\n",
       "  <thead>\n",
       "    <tr style=\"text-align: right;\">\n",
       "      <th></th>\n",
       "      <th>package_number</th>\n",
       "      <th>version</th>\n",
       "      <th>title</th>\n",
       "      <th>packageid</th>\n",
       "      <th>doi</th>\n",
       "    </tr>\n",
       "  </thead>\n",
       "  <tbody>\n",
       "    <tr>\n",
       "      <th>185</th>\n",
       "      <td>1</td>\n",
       "      <td>13</td>\n",
       "      <td>Meteorology Data from the Sevilleta National W...</td>\n",
       "      <td>knb-lter-sev.1.13</td>\n",
       "      <td>doi:10.6073/pasta/4d71c09b242602114fb684c843e9...</td>\n",
       "    </tr>\n",
       "    <tr>\n",
       "      <th>92</th>\n",
       "      <td>2</td>\n",
       "      <td>329007</td>\n",
       "      <td>Precipitation Chemistry Data For the Sevilleta...</td>\n",
       "      <td>knb-lter-sev.2.329007</td>\n",
       "      <td>doi:10.6073/pasta/d44f1fc24b685c33d3fdafdab4c8...</td>\n",
       "    </tr>\n",
       "    <tr>\n",
       "      <th>93</th>\n",
       "      <td>4</td>\n",
       "      <td>202002</td>\n",
       "      <td>Grassland Vegetation Line-Intercept Transects ...</td>\n",
       "      <td>knb-lter-sev.4.202002</td>\n",
       "      <td>doi:10.6073/pasta/63f506aaf52e7a6ecb3fb296b9e8...</td>\n",
       "    </tr>\n",
       "    <tr>\n",
       "      <th>94</th>\n",
       "      <td>6</td>\n",
       "      <td>151654</td>\n",
       "      <td>Pinon Branch Demography Study at the Sevilleta...</td>\n",
       "      <td>knb-lter-sev.6.151654</td>\n",
       "      <td>doi:10.6073/pasta/7f398daeaff9bb36d10921f8b405...</td>\n",
       "    </tr>\n",
       "    <tr>\n",
       "      <th>95</th>\n",
       "      <td>7</td>\n",
       "      <td>183180</td>\n",
       "      <td>Plant Water Potentials and Plant Physiology at...</td>\n",
       "      <td>knb-lter-sev.7.183180</td>\n",
       "      <td>doi:10.6073/pasta/8098bba14324c8e7ba6e7dc30518...</td>\n",
       "    </tr>\n",
       "  </tbody>\n",
       "</table>\n",
       "</div>"
      ],
      "text/plain": [
       "     package_number version  \\\n",
       "185               1      13   \n",
       "92                2  329007   \n",
       "93                4  202002   \n",
       "94                6  151654   \n",
       "95                7  183180   \n",
       "\n",
       "                                                 title              packageid  \\\n",
       "185  Meteorology Data from the Sevilleta National W...      knb-lter-sev.1.13   \n",
       "92   Precipitation Chemistry Data For the Sevilleta...  knb-lter-sev.2.329007   \n",
       "93   Grassland Vegetation Line-Intercept Transects ...  knb-lter-sev.4.202002   \n",
       "94   Pinon Branch Demography Study at the Sevilleta...  knb-lter-sev.6.151654   \n",
       "95   Plant Water Potentials and Plant Physiology at...  knb-lter-sev.7.183180   \n",
       "\n",
       "                                                   doi  \n",
       "185  doi:10.6073/pasta/4d71c09b242602114fb684c843e9...  \n",
       "92   doi:10.6073/pasta/d44f1fc24b685c33d3fdafdab4c8...  \n",
       "93   doi:10.6073/pasta/63f506aaf52e7a6ecb3fb296b9e8...  \n",
       "94   doi:10.6073/pasta/7f398daeaff9bb36d10921f8b405...  \n",
       "95   doi:10.6073/pasta/8098bba14324c8e7ba6e7dc30518...  "
      ]
     },
     "execution_count": 20,
     "metadata": {},
     "output_type": "execute_result"
    }
   ],
   "source": [
    "SEV_clean_final.head()"
   ]
  },
  {
   "cell_type": "code",
   "execution_count": 21,
   "metadata": {},
   "outputs": [],
   "source": [
    "csv_file_name = \"../output/PASTA_SEV_Data_Packages_List_\" + date.today().strftime(\"%Y%m%d\") + \".csv\"\n",
    "csv_file_name\n",
    "SEV_clean_final.to_csv(csv_file_name, index=False)"
   ]
  },
  {
   "cell_type": "code",
   "execution_count": 22,
   "metadata": {},
   "outputs": [
    {
     "name": "stdout",
     "output_type": "stream",
     "text": [
      "<class 'pandas.core.frame.DataFrame'>\n",
      "Int64Index: 193 entries, 185 to 85\n",
      "Data columns (total 5 columns):\n",
      "package_number    193 non-null int64\n",
      "version           193 non-null object\n",
      "title             193 non-null object\n",
      "packageid         193 non-null object\n",
      "doi               193 non-null object\n",
      "dtypes: int64(1), object(4)\n",
      "memory usage: 9.0+ KB\n"
     ]
    }
   ],
   "source": [
    "SEV_clean_final.info()"
   ]
  },
  {
   "cell_type": "code",
   "execution_count": null,
   "metadata": {},
   "outputs": [],
   "source": []
  }
 ],
 "metadata": {
  "kernelspec": {
   "display_name": "Python 3",
   "language": "python",
   "name": "python3"
  },
  "language_info": {
   "codemirror_mode": {
    "name": "ipython",
    "version": 3
   },
   "file_extension": ".py",
   "mimetype": "text/x-python",
   "name": "python",
   "nbconvert_exporter": "python",
   "pygments_lexer": "ipython3",
   "version": "3.8.1"
  },
  "toc": {
   "base_numbering": 1,
   "nav_menu": {},
   "number_sections": true,
   "sideBar": true,
   "skip_h1_title": false,
   "title_cell": "Table of Contents",
   "title_sidebar": "Contents",
   "toc_cell": false,
   "toc_position": {},
   "toc_section_display": true,
   "toc_window_display": false
  }
 },
 "nbformat": 4,
 "nbformat_minor": 4
}
